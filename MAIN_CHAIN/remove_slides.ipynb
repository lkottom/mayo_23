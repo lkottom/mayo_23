{
 "cells": [
  {
   "cell_type": "code",
   "execution_count": 22,
   "metadata": {},
   "outputs": [],
   "source": [
    "import os \n",
    "import csv\n",
    "import tqdm as tqdm \n",
    "import shutil\n"
   ]
  },
  {
   "cell_type": "code",
   "execution_count": 23,
   "metadata": {},
   "outputs": [],
   "source": [
    "csv_path = '/mayo_atlas/home/m296984/MAIN_CHAIN_BREAST/Breast_Atlas_Yottixel_2.csv' "
   ]
  },
  {
   "cell_type": "code",
   "execution_count": 12,
   "metadata": {},
   "outputs": [],
   "source": [
    "# # Read the CSV file and update slide names adding .svs\n",
    "# updated_rows = []\n",
    "# with open(csv_path, newline='') as csvfile:\n",
    "#     reader = csv.DictReader(csvfile)\n",
    "#     for row in reader:\n",
    "#         updated_row = row.copy()  # Create a copy of the original row\n",
    "#         updated_row['file_name'] = row['file_name'] + \".svs\"  # Add \".svs\" extension\n",
    "#         updated_rows.append(updated_row)\n",
    "\n",
    "# # Write the updated data back to the CSV file\n",
    "# with open(csv_path, 'w', newline='') as csvfile:\n",
    "#     fieldnames = reader.fieldnames\n",
    "#     writer = csv.DictWriter(csvfile, fieldnames=fieldnames)\n",
    "#     writer.writeheader()\n",
    "#     writer.writerows(updated_rows)"
   ]
  },
  {
   "cell_type": "code",
   "execution_count": 26,
   "metadata": {},
   "outputs": [],
   "source": [
    "with open(csv_path, newline='') as f:\n",
    "    reader = csv.DictReader(f)\n",
    "    slide_names = [row['\\ufefffile_name'] for row in reader]"
   ]
  },
  {
   "cell_type": "code",
   "execution_count": 27,
   "metadata": {},
   "outputs": [
    {
     "name": "stderr",
     "output_type": "stream",
     "text": [
      "Getting Slides: 100%|██████████| 99/99 [00:00<00:00, 861485.68it/s]\n"
     ]
    }
   ],
   "source": [
    "saved_data = []\n",
    "crc_data_path = '/mayo_atlas/atlas/breast_cancer/image'\n",
    "for file in tqdm.tqdm(os.listdir(crc_data_path), total=len(os.listdir(crc_data_path)), desc=\"Getting Slides: \"):\n",
    "    if file.endswith('.svs'):\n",
    "        saved_data.append(file)\n",
    "        "
   ]
  },
  {
   "cell_type": "code",
   "execution_count": 28,
   "metadata": {},
   "outputs": [
    {
     "name": "stdout",
     "output_type": "stream",
     "text": [
      "['1.svs', '100 Atlas.svs', '101 Atlas.svs', '102 Atlas.svs', '13.svs', '15.svs', '16.svs', '18.svs', '2.svs', '23.svs', '24.svs', '25.svs', '26.svs', '27.svs', '3.svs', '32.svs', '33.svs', '34.svs', '35.svs', '36.svs', '38.svs', '39.svs', '41.svs', '42.svs', '45.svs', '46.svs', '47.svs', '49.svs', '50.svs', '51.svs', '52.svs', '54.svs', '55.svs', '56.svs', '57.svs', '60.svs', '61.svs', '63 Atlas.svs', '64 Atlas.svs', '65 Atlas.svs', '66 Atlas.svs', '67 Atlas.svs', '68 Atlas.svs', '69 Atlas.svs', '7.svs', '70 Atlas.svs', '71 Atlas.svs', '72 Atlas.svs', '73 Atlas.svs', '74 Atlas.svs', '75 Atlas.svs', '76 Atlas.svs', '77 Atlas.svs', '78 Atlas.svs', '79 Atlas.svs', '80 Atlas.svs', '81 Atlas.svs', '82 Atlas.svs', '83 Atlas.svs', '84 Atlas.svs', '85 Atlas.svs', '86 Atlas.svs', '87 Atlas.svs', '88 Atlas.svs', '89 Atlas.svs', '90 Atlas.svs', '91 Atlas.svs', '92 Atlas.svs', '93 Atlas.svs', '95 Atlas.svs', '96 Atlas.svs', '97 Atlas.svs', '98 Atlas.svs', '99 Atlas.svs']\n",
      "74\n"
     ]
    }
   ],
   "source": [
    "print(sorted(slide_names))\n",
    "print(len(slide_names))"
   ]
  },
  {
   "cell_type": "code",
   "execution_count": 29,
   "metadata": {},
   "outputs": [
    {
     "name": "stdout",
     "output_type": "stream",
     "text": [
      "['1.svs', '10.svs', '100 Atlas.svs', '101 Atlas.svs', '102 Atlas.svs', '11.svs', '12.svs', '13.svs', '14.svs', '15.svs', '16.svs', '18.svs', '19.svs', '2.svs', '20.svs', '21.svs', '22.svs', '23.svs', '24.svs', '25.svs', '26.svs', '27.svs', '28.svs', '29.svs', '3.svs', '30.svs', '31.svs', '32.svs', '33.svs', '34.svs', '35.svs', '36.svs', '37.svs', '38.svs', '39.svs', '4.svs', '41.svs', '42.svs', '43.svs', '44.svs', '45.svs', '46.svs', '47.svs', '48.svs', '49.svs', '5.svs', '50.svs', '51.svs', '52.svs', '53.svs', '54.svs', '55.svs', '56.svs', '57.svs', '58.svs', '59.svs', '6.svs', '60.svs', '61.svs', '63 Atlas.svs', '64 Atlas.svs', '65 Atlas.svs', '66 Atlas.svs', '67 Atlas.svs', '68 Atlas.svs', '69 Atlas.svs', '7.svs', '70 Atlas.svs', '71 Atlas.svs', '72 Atlas.svs', '73 Atlas.svs', '74 Atlas.svs', '75 Atlas.svs', '76 Atlas.svs', '77 Atlas.svs', '78 Atlas.svs', '79 Atlas.svs', '8.svs', '80 Atlas.svs', '81 Atlas.svs', '82 Atlas.svs', '83 Atlas.svs', '84 Atlas.svs', '85 Atlas.svs', '86 Atlas.svs', '87 Atlas.svs', '88 Atlas.svs', '89 Atlas.svs', '9.svs', '90 Atlas.svs', '91 Atlas.svs', '92 Atlas.svs', '93 Atlas.svs', '94 Atlas.svs', '95 Atlas.svs', '96 Atlas.svs', '97 Atlas.svs', '98 Atlas.svs', '99 Atlas.svs']\n",
      "99\n"
     ]
    }
   ],
   "source": [
    "print(sorted(saved_data))\n",
    "print(len(saved_data))"
   ]
  },
  {
   "cell_type": "code",
   "execution_count": 32,
   "metadata": {},
   "outputs": [
    {
     "name": "stderr",
     "output_type": "stream",
     "text": [
      "Getting Slides: 100%|██████████| 99/99 [00:00<00:00, 804721.12it/s]"
     ]
    },
    {
     "name": "stdout",
     "output_type": "stream",
     "text": [
      "25\n"
     ]
    },
    {
     "name": "stderr",
     "output_type": "stream",
     "text": [
      "\n"
     ]
    }
   ],
   "source": [
    "removed_list = []\n",
    "total = 0\n",
    "save_data_path = '/mayo_atlas/home/m296984/MAIN_CHAIN_BREAST/training_data'\n",
    "os.makedirs(save_data_path, exist_ok=True)\n",
    "for file in tqdm.tqdm(os.listdir(crc_data_path), total=len(os.listdir(crc_data_path)), desc=\"Getting Slides: \"):\n",
    "    if file not in slide_names:\n",
    "        file_path = os.path.join(crc_data_path, file)\n",
    "        dest_file = os.path.join(save_data_path, file)\n",
    "\n",
    "        try:\n",
    "            shutil.copy(file_path, dest_file)\n",
    "        except Exception as e:\n",
    "            print(f\"Error copying '{file}': {e}\")\n",
    "            continue  # Skip to the next file\n",
    "\n",
    "print(\"File copying completed.\")\n",
    "#         removed_list.append(file)\n",
    "#         total += 1\n",
    "\n",
    "# print(len(removed_list))\n",
    "\n",
    "\n",
    "# for sl_name in tqdm.tqdm(slide_names, total=len(slide_names)):\n",
    "#     file_path = os.path.join(crc_data_path, sl_name)\n",
    "#     dest_file = os.path.join(save_data_path, sl_name)\n",
    "#     shutil.copy(file_path, dest_file)\n",
    "# #     removed_list.append(sl_name)   \n",
    "    \n",
    "# # print(len(removed_list))"
   ]
  }
 ],
 "metadata": {
  "kernelspec": {
   "display_name": "auto_encoder",
   "language": "python",
   "name": "python3"
  },
  "language_info": {
   "codemirror_mode": {
    "name": "ipython",
    "version": 3
   },
   "file_extension": ".py",
   "mimetype": "text/x-python",
   "name": "python",
   "nbconvert_exporter": "python",
   "pygments_lexer": "ipython3",
   "version": "3.11.4"
  },
  "orig_nbformat": 4
 },
 "nbformat": 4,
 "nbformat_minor": 2
}
