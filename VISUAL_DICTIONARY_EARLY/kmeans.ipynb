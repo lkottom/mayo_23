{
 "cells": [
  {
   "cell_type": "code",
   "execution_count": 2,
   "metadata": {},
   "outputs": [],
   "source": [
    "import os\n",
    "import numpy as np\n",
    "from sklearn.cluster import KMeans\n",
    "import torch\n",
    "import tqdm as tqdm\n",
    "\n",
    "os.environ['OPENBLAS_NUM_THREADS'] = '100'\n",
    "\n",
    "def get_embeddings(dir_path):\n",
    "    all_embeddings = []\n",
    "    for sub_dirs in tqdm.tqdm(os.listdir(dir_path), total=len(os.listdir(dir_path))):\n",
    "        sub_dir_path = os.path.join(dir_path, sub_dirs)\n",
    "        for subdir in os.listdir(sub_dir_path):\n",
    "            embedding_path = os.path.join(sub_dir_path, subdir)\n",
    "            embedding = torch.load(embedding_path, map_location=torch.device('cpu'))\n",
    "            all_embeddings.append(embedding)\n",
    "    return all_embeddings"
   ]
  },
  {
   "cell_type": "code",
   "execution_count": 3,
   "metadata": {},
   "outputs": [
    {
     "name": "stderr",
     "output_type": "stream",
     "text": [
      "100%|██████████| 175/175 [00:34<00:00,  5.13it/s]\n"
     ]
    },
    {
     "name": "stdout",
     "output_type": "stream",
     "text": [
      "There are a total of 87737 to apply K_means too\n"
     ]
    },
    {
     "name": "stderr",
     "output_type": "stream",
     "text": [
      "Getting Kmean Cluster Values:   0%|          | 0/5 [00:00<?, ?it/s]"
     ]
    },
    {
     "ename": "",
     "evalue": "",
     "output_type": "error",
     "traceback": [
      "\u001b[1;31mCannot execute code, session has been disposed. Please try restarting the Kernel."
     ]
    },
    {
     "ename": "",
     "evalue": "",
     "output_type": "error",
     "traceback": [
      "\u001b[1;31mThe Kernel crashed while executing code in the the current cell or a previous cell. Please review the code in the cell(s) to identify a possible cause of the failure. Click <a href='https://aka.ms/vscodeJupyterKernelCrash'>here</a> for more info. View Jupyter <a href='command:jupyter.viewOutput'>log</a> for further details."
     ]
    }
   ],
   "source": [
    "model = 'VAE_32x32_16_dim'\n",
    "word_size = 32\n",
    "number_of_words = 500\n",
    "n_clusters = [128, 256, 512, 1024, 2048]\n",
    "EMBEDDING_PATH = f'/mayo_atlas/home/m296984/visual_dictionary_pipeline/train/embeddings_{number_of_words}_{model}'\n",
    "KMEANS_SAVE_DIR = f'/mayo_atlas/home/m296984/visual_dictionary_pipeline/kmeans_{number_of_words}_results_{word_size}_{model}'\n",
    "os.makedirs(KMEANS_SAVE_DIR, exist_ok=True)\n",
    "all_embeddings = get_embeddings(EMBEDDING_PATH)\n",
    "print(f'There are a total of {len(all_embeddings)} to apply K_means too')\n",
    "# Concatenate all the individual embeddings into a single tensor\n",
    "all_embeddings = torch.cat(all_embeddings, dim=0)\n",
    "# Convert the embeddings tensor to a numpy array for clustering\n",
    "embeddings_np = all_embeddings.cpu().detach().numpy()\n",
    "\n",
    "for n in tqdm.tqdm(n_clusters, total=len(n_clusters), desc=\"Getting Kmean Cluster Values: \"):\n",
    "    kmeans = KMeans(n_clusters=n, random_state=0, n_init=10).fit(embeddings_np)\n",
    "    visual_dictionary = kmeans.cluster_centers_\n",
    "    save_path = f'{KMEANS_SAVE_DIR}/visual_dictionary_{n}.npy'\n",
    "    np.save(save_path, visual_dictionary)"
   ]
  }
 ],
 "metadata": {
  "kernelspec": {
   "display_name": "auto_encoder",
   "language": "python",
   "name": "python3"
  },
  "language_info": {
   "codemirror_mode": {
    "name": "ipython",
    "version": 3
   },
   "file_extension": ".py",
   "mimetype": "text/x-python",
   "name": "python",
   "nbconvert_exporter": "python",
   "pygments_lexer": "ipython3",
   "version": "3.11.4"
  },
  "orig_nbformat": 4
 },
 "nbformat": 4,
 "nbformat_minor": 2
}
