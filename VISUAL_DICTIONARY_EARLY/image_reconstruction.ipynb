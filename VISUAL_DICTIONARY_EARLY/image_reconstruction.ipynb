{
 "cells": [
  {
   "cell_type": "code",
   "execution_count": 1,
   "metadata": {},
   "outputs": [
    {
     "name": "stdout",
     "output_type": "stream",
     "text": [
      "cuda\n"
     ]
    }
   ],
   "source": [
    "\n",
    "import matplotlib.pyplot as plt\n",
    "import torch\n",
    "from model_vae_16_dim import Autoencoder\n",
    "from torch.utils.data import DataLoader \n",
    "from custom_dataset import CustomDataset\n",
    "from torchvision import transforms\n",
    "import torchvision.utils as vutils\n",
    "import os\n",
    "import tqdm as tqdm\n",
    "device = torch.device(\"cuda\" if torch.cuda.is_available() else \"cpu\")\n",
    "print(device)\n"
   ]
  },
  {
   "cell_type": "code",
   "execution_count": 2,
   "metadata": {},
   "outputs": [],
   "source": [
    "model_path = '/mayo_atlas/home/m296984/visual_dictionary_pipeline/vae_logs/mse_vae/checkpoint_20.pt'\n",
    "slide_data_path = '/mayo_atlas/home/m296984/visual_dictionary_pipeline/training_32x32_patches'\n",
    "PATCH_SIZE = 32\n",
    "model = Autoencoder(PATCH_SIZE)\n",
    "model.load_state_dict(torch.load(model_path))\n",
    "model.to(device)\n",
    "model.eval()\n",
    "dataset = CustomDataset(data_path=slide_data_path, transform=transforms.ToTensor())\n",
    "loader = DataLoader(dataset=dataset, batch_size=1, shuffle=True, num_workers=32)\n"
   ]
  },
  {
   "cell_type": "code",
   "execution_count": 3,
   "metadata": {},
   "outputs": [],
   "source": [
    "def get_embeddings_VAE(model_path, patch_size, slide_data_path, save_path):\n",
    "    model = Autoencoder(patch_size)\n",
    "    model.load_state_dict(torch.load(model_path))\n",
    "    model.to(device)\n",
    "    model.eval()\n",
    "    dataset = CustomDataset(data_path=slide_data_path, transform=transforms.ToTensor())\n",
    "    loader = DataLoader(dataset=dataset, batch_size=1, shuffle=True, num_workers=32)\n",
    "    for i, (photo, _) in enumerate(loader):\n",
    "        photo = photo.to(device)\n",
    "        _, embedding, _ = model(photo)\n",
    "        file_name = f\"embedding_{i}.pt\"\n",
    "        file_path = os.path.join(save_path, file_name)\n",
    "        \n",
    "        # Save the current embedding tensor to the specified file path\n",
    "        torch.save(embedding, file_path)"
   ]
  },
  {
   "cell_type": "code",
   "execution_count": 5,
   "metadata": {},
   "outputs": [
    {
     "name": "stdout",
     "output_type": "stream",
     "text": [
      "cuda\n"
     ]
    },
    {
     "name": "stderr",
     "output_type": "stream",
     "text": [
      "Saving Embeddings:: 100%|██████████| 175/175 [13:51<00:00,  4.75s/it]\n",
      "Saving Embeddings:: 100%|██████████| 177/177 [13:34<00:00,  4.60s/it]\n"
     ]
    }
   ],
   "source": [
    "print(device)\n",
    "num_words = 1000\n",
    "word_size = 32\n",
    "model = 'VAE_32x32_16_dim'\n",
    "keywords = [\"train\", \"test\"]\n",
    "for keyword in keywords: \n",
    "    MODEL_PATH = '/mayo_atlas/home/m296984/visual_dictionary_pipeline/vae_logs/mse_vae/checkpoint_20.pt'\n",
    "    DATA_PATH = f'/mayo_atlas/home/m296984/visual_dictionary_pipeline/{keyword}/{num_words}_words_per_slide_{word_size}'\n",
    "    SAVE_PATH = f'/mayo_atlas/home/m296984/visual_dictionary_pipeline/{keyword}/embeddings_{num_words}_{model}'\n",
    "    os.makedirs(SAVE_PATH, exist_ok=True)\n",
    "    slide_names = os.listdir(DATA_PATH)\n",
    "    for slide_name in tqdm.tqdm(slide_names, total=len(slide_names), desc=\"Saving Embeddings:\"):\n",
    "        slide_save_path = os.path.join(SAVE_PATH, slide_name)\n",
    "        slide_data_path = os.path.join(DATA_PATH, slide_name)\n",
    "        if any(os.scandir(slide_data_path)):\n",
    "            os.makedirs(slide_save_path, exist_ok=True)\n",
    "            # if model == \"VAE_32x32\":\n",
    "            get_embeddings_VAE(MODEL_PATH, PATCH_SIZE, slide_data_path, slide_save_path)"
   ]
  },
  {
   "cell_type": "code",
   "execution_count": 3,
   "metadata": {},
   "outputs": [],
   "source": [
    "def visualize_images(original_images, reconstructed_images):\n",
    "    _, axes = plt.subplots(nrows=2, ncols=len(original_images), figsize=(12, 4))\n",
    "\n",
    "    for i, ax in enumerate(axes[0]):\n",
    "        ax.imshow(original_images[i].transpose(1, 2, 0))\n",
    "        ax.axis('off')\n",
    "        ax.set_title('Original')\n",
    "\n",
    "    for i, ax in enumerate(axes[1]):\n",
    "        ax.imshow(reconstructed_images[i].transpose(1, 2, 0))\n",
    "        ax.axis('off')\n",
    "        ax.set_title('Reconstructed')\n",
    "\n",
    "    plt.show()"
   ]
  },
  {
   "cell_type": "code",
   "execution_count": 6,
   "metadata": {},
   "outputs": [
    {
     "name": "stdout",
     "output_type": "stream",
     "text": [
      "tensor([[-1.8690e-04,  8.6804e-04, -9.8463e-05, -5.4067e-05, -5.1846e-04,\n",
      "         -9.8336e-04,  9.2605e-04, -1.6752e-04]], device='cuda:0')\n",
      "tensor([[ 7.6070e-06, -8.9824e-05,  3.6042e-06,  1.6615e-06,  3.4675e-05,\n",
      "          1.1605e-04, -1.0206e-04,  6.3553e-06]], device='cuda:0')\n"
     ]
    }
   ],
   "source": [
    "# Visualize a small sample of images\n",
    "num_samples = 2  # Number of samples to visualize\n",
    "\n",
    "original_images = []\n",
    "reconstructed_images = []\n",
    "for i, (photo, _) in enumerate(loader):\n",
    "    if i >= num_samples:\n",
    "        break\n",
    "    input_images = photo.to(device)\n",
    "    # Forward pass through the model to get the reconstructed output\n",
    "    with torch.no_grad():\n",
    "        reconstructed_image, _, _ = model(input_images)\n",
    "        \n",
    "        \n",
    "    original_images.append(input_images.cpu().numpy().squeeze())\n",
    "    reconstructed_images.append(reconstructed_image.cpu().numpy().squeeze())"
   ]
  },
  {
   "cell_type": "code",
   "execution_count": 5,
   "metadata": {},
   "outputs": [
    {
     "data": {
      "image/png": "[encoded data removed]",
      "text/plain": [
       "<Figure size 1200x400 with 4 Axes>"
      ]
     },
     "metadata": {},
     "output_type": "display_data"
    }
   ],
   "source": [
    "visualize_images(original_images, reconstructed_images)"
   ]
  },
  {
   "cell_type": "code",
   "execution_count": 23,
   "metadata": {},
   "outputs": [],
   "source": [
    "for i in range(num_samples):\n",
    "    # Save the original image\n",
    "    vutils.save_image(original_images[i], \"/mayo_atlas/home/m296984/visual_dictionary_pipeline/image_reconstruction/original/original_image_{}.png\".format(i))\n",
    "    # Save the reconstructed image\n",
    "    vutils.save_image(reconstructed_images[i], \"/mayo_atlas/home/m296984/visual_dictionary_pipeline/image_reconstruction/reconstructed/reconstructed_image_{}.png\".format(i))"
   ]
  }
 ],
 "metadata": {
  "kernelspec": {
   "display_name": "auto_encoder",
   "language": "python",
   "name": "python3"
  },
  "language_info": {
   "codemirror_mode": {
    "name": "ipython",
    "version": 3
   },
   "file_extension": ".py",
   "mimetype": "text/x-python",
   "name": "python",
   "nbconvert_exporter": "python",
   "pygments_lexer": "ipython3",
   "version": "3.11.4"
  },
  "orig_nbformat": 4
 },
 "nbformat": 4,
 "nbformat_minor": 2
}
